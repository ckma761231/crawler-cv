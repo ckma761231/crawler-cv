{
 "cells": [
  {
   "cell_type": "markdown",
   "metadata": {},
   "source": [
    "# 其他工具：Grab、PyQuery\n",
    "\n",
    "\n",
    "* 利用 Grab 套件的存取 HTML 資源\n",
    "* 利用 PyQuery 套件的解析 HTML 格式\n"
   ]
  },
  {
   "cell_type": "markdown",
   "metadata": {},
   "source": [
    "## 作業目標\n",
    "\n",
    "將之前用 requests + beatifulsoup 實作的方式，改寫成 grab + pyquery，並且比較有哪些地方不同。\n",
    "\n",
    "\n",
    "\n"
   ]
  },
  {
   "cell_type": "markdown",
   "metadata": {},
   "source": [
    "## requests + BeautifulSoup\n"
   ]
  },
  {
   "cell_type": "code",
   "execution_count": 1,
   "metadata": {},
   "outputs": [],
   "source": [
    "'''\n",
    "Your Code\n",
    "'''\n",
    "import requests\n",
    "import os\n",
    "\n",
    "from bs4 import BeautifulSoup\n",
    "from PIL import Image"
   ]
  },
  {
   "cell_type": "code",
   "execution_count": 2,
   "metadata": {},
   "outputs": [],
   "source": [
    "# 決定要儲存的資料夾\n",
    "output_dir = 'down_loads'\n",
    "\n",
    "# 假如資料夾不存在就新增一個資料夾\n",
    "if not os.path.exists(output_dir):\n",
    "    os.makedirs(output_dir)"
   ]
  },
  {
   "cell_type": "code",
   "execution_count": 3,
   "metadata": {},
   "outputs": [],
   "source": [
    "url = 'https://www.ptt.cc/bbs/Beauty/M.1556291059.A.75A.html'\n",
    "resp = requests.get(url, cookies={'over18': '1'})\n",
    "soup = BeautifulSoup(resp.text)"
   ]
  },
  {
   "cell_type": "code",
   "execution_count": 4,
   "metadata": {},
   "outputs": [
    {
     "name": "stdout",
     "output_type": "stream",
     "text": [
      "Save image down_loads/Cgb5oo1.jpeg\n",
      "Save image down_loads/MgjHY4f.jpeg\n",
      "Save image down_loads/yeoRtAs.jpeg\n",
      "Save image down_loads/wsauNEW.jpeg\n",
      "Save image down_loads/IjiETcs.jpeg\n"
     ]
    }
   ],
   "source": [
    "for tag_all in soup.find_all('a'):\n",
    "    if 'https://imgur' in tag_all['href']:\n",
    "        tag = tag_all['href'].split('/')[-1]\n",
    "        img_url = 'https://i.imgur.com/'+ tag +'.jpg'#.format(img_id)\n",
    "        #img_url2 = 'https://i.imgur.com/{}.jpg'.format(tag)\n",
    "        #print(img_url)\n",
    "        r = requests.get(img_url, stream=True)\n",
    "        r.raise_for_status()\n",
    "        img = Image.open(r.raw)\n",
    "        sidename = img.format.lower()\n",
    "\n",
    "        img_name = 'down_loads/'+ tag +'.'+ sidename +''\n",
    "        img.save(img_name)\n",
    "        print('Save image {}'.format(img_name))\n",
    "    else:\n",
    "        continue"
   ]
  },
  {
   "cell_type": "markdown",
   "metadata": {},
   "source": [
    "## Grab + PyQuery"
   ]
  },
  {
   "cell_type": "code",
   "execution_count": 6,
   "metadata": {},
   "outputs": [
    {
     "name": "stdout",
     "output_type": "stream",
     "text": [
      "Collecting grab\n",
      "  Downloading https://files.pythonhosted.org/packages/26/87/c0b939da311bed38c0c073fd61675cfbe4ba585c2a04370a5b7e106a2639/grab-0.6.41.tar.gz (1.1MB)\n",
      "Collecting weblib>=0.1.28 (from grab)\n",
      "  Downloading https://files.pythonhosted.org/packages/67/16/2761dab6e8515708a2762dc34e6b8e089df21211d98f91d298911f2fd5b0/weblib-0.1.30.tar.gz\n",
      "Requirement already satisfied: six in d:\\anaconda3\\lib\\site-packages (from grab) (1.12.0)\n",
      "Collecting user_agent (from grab)\n",
      "  Downloading https://files.pythonhosted.org/packages/c3/ca/15546284f62edfec7666ecb6403a6e77f5db850def37cd36f140d99cce02/user_agent-0.1.9.tar.gz\n",
      "Collecting selection (from grab)\n",
      "  Downloading https://files.pythonhosted.org/packages/32/01/7e9f093e502c3b19d8fd8c7046de31534a0254bb6aaced0403739dc7f704/selection-0.0.14.tar.gz\n",
      "Requirement already satisfied: defusedxml in d:\\anaconda3\\lib\\site-packages (from grab) (0.5.0)\n",
      "Collecting pytils (from weblib>=0.1.28->grab)\n",
      "  Downloading https://files.pythonhosted.org/packages/c6/c1/12b556b5bb393ce5130d57af862d045f57fee764797c0fe837e49cb2a5da/pytils-0.3.tar.gz (89kB)\n",
      "Building wheels for collected packages: grab, weblib, user-agent, selection, pytils\n",
      "  Running setup.py bdist_wheel for grab: started\n",
      "  Running setup.py bdist_wheel for grab: finished with status 'done'\n",
      "  Stored in directory: C:\\Users\\whq0812\\AppData\\Local\\pip\\Cache\\wheels\\84\\ff\\2d\\08f71c11e5b73027dfa7d1ac8bd654b60af2df57ae89bd29d5\n",
      "  Running setup.py bdist_wheel for weblib: started\n",
      "  Running setup.py bdist_wheel for weblib: finished with status 'done'\n",
      "  Stored in directory: C:\\Users\\whq0812\\AppData\\Local\\pip\\Cache\\wheels\\4d\\92\\d1\\f89cbbefae35442b82a069a60f6b596c77f22ab5d58813e4a4\n",
      "  Running setup.py bdist_wheel for user-agent: started\n",
      "  Running setup.py bdist_wheel for user-agent: finished with status 'done'\n",
      "  Stored in directory: C:\\Users\\whq0812\\AppData\\Local\\pip\\Cache\\wheels\\92\\80\\3f\\5d79277825042f2d4d447f594e3fc046f1e506f2b481d364b2\n",
      "  Running setup.py bdist_wheel for selection: started\n",
      "  Running setup.py bdist_wheel for selection: finished with status 'done'\n",
      "  Stored in directory: C:\\Users\\whq0812\\AppData\\Local\\pip\\Cache\\wheels\\f6\\78\\ea\\df9f78c9f3fb643b9fc9f6e70fab990e5f8455024d34019418\n",
      "  Running setup.py bdist_wheel for pytils: started\n",
      "  Running setup.py bdist_wheel for pytils: finished with status 'done'\n",
      "  Stored in directory: C:\\Users\\whq0812\\AppData\\Local\\pip\\Cache\\wheels\\d6\\f9\\dc\\4f07d8ee40d9cfca9973b3f4aeff99d0bb69900e5f3dffbf32\n",
      "Successfully built grab weblib user-agent selection pytils\n",
      "Installing collected packages: pytils, user-agent, weblib, selection, grab\n",
      "Successfully installed grab-0.6.41 pytils-0.3 selection-0.0.14 user-agent-0.1.9 weblib-0.1.30\n"
     ]
    }
   ],
   "source": [
    "!pip install grab"
   ]
  },
  {
   "cell_type": "code",
   "execution_count": null,
   "metadata": {
    "scrolled": false
   },
   "outputs": [],
   "source": [
    "from grab import Grab\n",
    "#from pyquery import PyQuery as pq\n",
    "\n",
    "g = Grab()\n",
    "resp = g.go('https://www.google.com')\n",
    "\n",
    "#doc = pq(resp.body)\n",
    "title = doc('title')\n",
    "print(type(title), title.text())"
   ]
  },
  {
   "cell_type": "code",
   "execution_count": null,
   "metadata": {},
   "outputs": [],
   "source": [
    "from grab import Grab\n",
    "g = Grab()\n",
    "resp = g.go('https://www.google.com')"
   ]
  },
  {
   "cell_type": "code",
   "execution_count": null,
   "metadata": {},
   "outputs": [],
   "source": []
  }
 ],
 "metadata": {
  "kernelspec": {
   "display_name": "Python 3",
   "language": "python",
   "name": "python3"
  },
  "language_info": {
   "codemirror_mode": {
    "name": "ipython",
    "version": 3
   },
   "file_extension": ".py",
   "mimetype": "text/x-python",
   "name": "python",
   "nbconvert_exporter": "python",
   "pygments_lexer": "ipython3",
   "version": "3.7.1"
  }
 },
 "nbformat": 4,
 "nbformat_minor": 2
}
