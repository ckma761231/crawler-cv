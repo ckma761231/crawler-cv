{
 "cells": [
  {
   "cell_type": "markdown",
   "metadata": {},
   "source": [
    "# 作業\n",
    "\n",
    "以正確的副檔名下載網頁中的圖片\n",
    "範例網頁:https://www.ptt.cc/bbs/Beauty/M.1556291059.A.75A.html\n",
    "\n",
    "Note：因為 PTT 會詢問「是否滿 18 歲」，這邊可以用 cookies 繞過\n",
    "\n",
    "`requests.get(URL, cookies={'over18': '1'}`\n"
   ]
  },
  {
   "cell_type": "code",
   "execution_count": 1,
   "metadata": {},
   "outputs": [],
   "source": [
    "import requests\n",
    "import os\n",
    "\n",
    "from bs4 import BeautifulSoup\n",
    "from PIL import Image"
   ]
  },
  {
   "cell_type": "code",
   "execution_count": 46,
   "metadata": {},
   "outputs": [],
   "source": [
    "# 決定要儲存的資料夾\n",
    "output_dir = 'downloads'\n",
    "\n",
    "# 假如資料夾不存在就新增一個資料夾\n",
    "if not os.path.exists(output_dir):\n",
    "    os.makedirs(output_dir)"
   ]
  },
  {
   "cell_type": "code",
   "execution_count": 2,
   "metadata": {},
   "outputs": [],
   "source": [
    "url = 'https://www.ptt.cc/bbs/Beauty/M.1556291059.A.75A.html'\n",
    "resp = requests.get(url, cookies={'over18': '1'})\n",
    "soup = BeautifulSoup(resp.text)"
   ]
  },
  {
   "cell_type": "code",
   "execution_count": 53,
   "metadata": {},
   "outputs": [
    {
     "name": "stdout",
     "output_type": "stream",
     "text": [
      "Save image downloads/Cgb5oo1.jpeg\n",
      "Save image downloads/MgjHY4f.jpeg\n",
      "Save image downloads/yeoRtAs.jpeg\n",
      "Save image downloads/wsauNEW.jpeg\n",
      "Save image downloads/IjiETcs.jpeg\n"
     ]
    }
   ],
   "source": [
    "for tag_all in soup.find_all('a'):\n",
    "    if 'https://imgur' in tag_all['href']:\n",
    "        tag = tag_all['href'].split('/')[-1]\n",
    "        img_url = 'https://i.imgur.com/'+ tag +'.jpg'#.format(img_id)\n",
    "        #img_url2 = 'https://i.imgur.com/{}.jpg'.format(tag)\n",
    "        #print(img_url)\n",
    "        r = requests.get(img_url, stream=True)\n",
    "        r.raise_for_status()\n",
    "        img = Image.open(r.raw)\n",
    "        sidename = img.format.lower()\n",
    "\n",
    "        img_name = 'downloads/'+ tag +'.'+ sidename +''\n",
    "        img.save(img_name)\n",
    "        print('Save image {}'.format(img_name))\n",
    "    else:\n",
    "        continue"
   ]
  },
  {
   "cell_type": "code",
   "execution_count": 47,
   "metadata": {},
   "outputs": [
    {
     "name": "stdout",
     "output_type": "stream",
     "text": [
      "IjiETcs\n"
     ]
    }
   ],
   "source": [
    "print(tag)"
   ]
  },
  {
   "cell_type": "code",
   "execution_count": 26,
   "metadata": {},
   "outputs": [],
   "source": [
    "url = 'https://i.imgur.com/MgjHY4f.jpg'"
   ]
  },
  {
   "cell_type": "code",
   "execution_count": 49,
   "metadata": {},
   "outputs": [
    {
     "name": "stdout",
     "output_type": "stream",
     "text": [
      "downloads/IjiETcs.jpeg\n"
     ]
    }
   ],
   "source": [
    "r = requests.get(url, stream=True)\n",
    "r.raise_for_status()\n",
    "extension = Image.open(r.raw).format.lower()\n",
    "\n",
    "img_name = 'downloads/'+ tag +'.'+ extension +''\n",
    "img.save(img_name)\n",
    "print('Save image {}'.format(img_name))\n"
   ]
  },
  {
   "cell_type": "code",
   "execution_count": null,
   "metadata": {},
   "outputs": [],
   "source": [
    "# 決定要儲存的資料夾\n",
    "output_dir = 'downloads'\n",
    "\n",
    "# 假如資料夾不存在就新增一個資料夾\n",
    "if not os.path.exists(output_dir):\n",
    "    os.makedirs(output_dir)\n",
    "\n",
    "# 定位所有圖片的 tag\n",
    "image_tags = \n",
    "for img_tag in image_tags:\n",
    "    # 取得所有圖片在第三方服務的 id\n",
    "\n",
    "    # 組合圖片而非網站的網址\n",
    "\n",
    "    # 對圖片送出請求"
   ]
  }
 ],
 "metadata": {
  "kernelspec": {
   "display_name": "Python 3",
   "language": "python",
   "name": "python3"
  },
  "language_info": {
   "codemirror_mode": {
    "name": "ipython",
    "version": 3
   },
   "file_extension": ".py",
   "mimetype": "text/x-python",
   "name": "python",
   "nbconvert_exporter": "python",
   "pygments_lexer": "ipython3",
   "version": "3.7.1"
  }
 },
 "nbformat": 4,
 "nbformat_minor": 2
}
