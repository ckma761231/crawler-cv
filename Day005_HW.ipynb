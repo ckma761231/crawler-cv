{
 "cells": [
  {
   "cell_type": "markdown",
   "metadata": {},
   "source": [
    "# API 資料串接 - 以 Dcard API 實作範例\n",
    "\n",
    "* 利用 urllib 套件的 urlretrieve 方法下載檔案\n",
    "* 了解 Python File I/O 讀檔、寫檔的用法\n",
    "* 能用運用資源管理器 With Statement 優化寫法"
   ]
  },
  {
   "cell_type": "markdown",
   "metadata": {},
   "source": [
    "## 作業目標\n",
    "\n",
    "* 請利用 API: https://www.dcard.tw/_api/forums/pet/posts?popular=true 回答下列問題：\n",
    "\n",
    "1. 這個 API 一次會回傳幾筆資料？每一筆資料包含哪些欄位？\n",
    "2. 取出每一筆資料的「標題」、「貼文時間」、「留言人數」、「按讚人數」\n",
    "3. 計算熱門/非熱門文章的「平均留言人數」與「平均按讚人數」"
   ]
  },
  {
   "cell_type": "code",
   "execution_count": 3,
   "metadata": {},
   "outputs": [
    {
     "name": "stdout",
     "output_type": "stream",
     "text": [
      "最近刺蝟有點苦惱……\n",
      "貓咪送養\n",
      "這些狗你認識嗎😍\n",
      "教不到2天就會握手的貓？！\n",
      "充滿柴柴的人生❤️\n",
      "#圖多 偷看🐹上廁所......\n",
      "耐ㄍ⋯\n",
      "兔子吃草a跩樣\n",
      "開箱ㄐㄅ貓貓\n",
      "請問這樣算不算虐貓\n",
      "送養貓咪\n",
      "兄弟貓🧐\n",
      "沒有責任感根本沒資格養寵物\n",
      "紙袋破壞王🏆\n",
      "高科大校板的遺失倉鼠\n",
      "幼貓送養🐱\n",
      "#圖 柴柴 你能懂我的明白嗎？\n",
      "幼貓送養文\n",
      "請問有人的柴犬走失嗎？(已找到失主，謝謝大家的幫忙🙏）\n",
      "#募款 #貓 愛在街角，守護浪貓\n",
      "天冷怎麼辦ಥ_ಥ #柯基#圖多\n",
      "不要被薩摩耶給騙了！\n",
      "貓咪要如何避免被自己的💩臭死？\n",
      "貓咪教妳皮笑肉不笑🙂\n",
      "當我的貓和海豹都是一個囧臉\n",
      "求吸鴨地點\n",
      "我竟然被我家ㄉ狗鄙視！\n",
      "我養了一隻樹懶🦥\n",
      "你也知道要坐那\n",
      "協尋幼犬\n",
      "30\n"
     ]
    }
   ],
   "source": [
    "# 1. 這個 API 一次會回傳幾筆資料？每一筆資料包含哪些欄位？\n",
    "\n",
    "'''\n",
    "Your Code\n",
    "'''\n",
    "import requests\n",
    "r = requests.get('https://www.dcard.tw/_api/forums/pet/posts?popular=true')\n",
    "response = r.text\n",
    "response\n",
    "\n",
    "import json\n",
    "data = json.loads(r.text)\n",
    "#print(data)\n",
    "count = 0\n",
    "for d in data:\n",
    "    print(d['title'])\n",
    "    count += 1\n",
    "print(count)"
   ]
  },
  {
   "cell_type": "code",
   "execution_count": 12,
   "metadata": {},
   "outputs": [
    {
     "name": "stdout",
     "output_type": "stream",
     "text": [
      "id\n",
      "title\n",
      "excerpt\n",
      "anonymousSchool\n",
      "anonymousDepartment\n",
      "pinned\n",
      "forumId\n",
      "replyId\n",
      "createdAt\n",
      "updatedAt\n",
      "commentCount\n",
      "likeCount\n",
      "withNickname\n",
      "tags\n",
      "topics\n",
      "meta\n",
      "forumName\n",
      "forumAlias\n",
      "gender\n",
      "school\n",
      "replyTitle\n",
      "mediaMeta\n",
      "reactions\n",
      "hidden\n",
      "customStyle\n",
      "isSuspiciousAccount\n",
      "layout\n",
      "withImages\n",
      "withVideos\n",
      "media\n",
      "reportReasonText\n",
      "postAvatar\n",
      "32\n"
     ]
    }
   ],
   "source": [
    "count = 0\n",
    "for d in data[0]:\n",
    "    #key = list(d)\n",
    "    print(d)\n",
    "    count += 1\n",
    "print(count)"
   ]
  },
  {
   "cell_type": "code",
   "execution_count": 13,
   "metadata": {},
   "outputs": [
    {
     "name": "stdout",
     "output_type": "stream",
     "text": [
      "最近刺蝟有點苦惱…… 2019-11-27T14:09:04.187Z 41 2327\n",
      "\n",
      "貓咪送養 2019-11-27T15:53:37.579Z 10 230\n",
      "\n",
      "這些狗你認識嗎😍 2019-11-28T04:08:18.539Z 8 155\n",
      "\n",
      "教不到2天就會握手的貓？！ 2019-11-27T19:05:47.181Z 29 90\n",
      "\n",
      "充滿柴柴的人生❤️ 2019-11-28T07:19:45.391Z 2 77\n",
      "\n",
      "#圖多 偷看🐹上廁所...... 2019-11-28T13:44:17.224Z 13 66\n",
      "\n",
      "耐ㄍ⋯ 2019-11-27T16:36:38.742Z 8 47\n",
      "\n",
      "兔子吃草a跩樣 2019-11-27T17:48:07.040Z 4 46\n",
      "\n",
      "開箱ㄐㄅ貓貓 2019-11-27T16:20:13.198Z 1 46\n",
      "\n",
      "請問這樣算不算虐貓 2019-11-28T09:04:40.825Z 14 44\n",
      "\n",
      "送養貓咪 2019-11-27T14:33:01.950Z 2 40\n",
      "\n",
      "兄弟貓🧐 2019-11-28T12:25:11.285Z 3 37\n",
      "\n",
      "沒有責任感根本沒資格養寵物 2019-11-28T11:47:21.176Z 3 35\n",
      "\n",
      "紙袋破壞王🏆 2019-11-28T09:43:33.709Z 2 32\n",
      "\n",
      "高科大校板的遺失倉鼠 2019-11-28T05:23:12.530Z 1 29\n",
      "\n",
      "幼貓送養🐱 2019-11-28T13:38:34.117Z 5 27\n",
      "\n",
      "#圖 柴柴 你能懂我的明白嗎？ 2019-11-28T16:22:31.895Z 2 25\n",
      "\n",
      "幼貓送養文 2019-11-28T02:52:25.651Z 4 25\n",
      "\n",
      "請問有人的柴犬走失嗎？(已找到失主，謝謝大家的幫忙🙏） 2019-11-28T14:57:09.825Z 3 21\n",
      "\n",
      "#募款 #貓 愛在街角，守護浪貓 2019-11-28T07:11:04.741Z 1 19\n",
      "\n",
      "天冷怎麼辦ಥ_ಥ #柯基#圖多 2019-11-28T15:47:50.708Z 0 18\n",
      "\n",
      "不要被薩摩耶給騙了！ 2019-11-29T00:25:38.826Z 3 17\n",
      "\n",
      "貓咪要如何避免被自己的💩臭死？ 2019-11-27T14:33:19.704Z 2 16\n",
      "\n",
      "貓咪教妳皮笑肉不笑🙂 2019-11-28T11:55:17.571Z 1 15\n",
      "\n",
      "當我的貓和海豹都是一個囧臉 2019-11-28T05:35:09.787Z 3 15\n",
      "\n",
      "求吸鴨地點 2019-11-28T03:29:49.177Z 6 14\n",
      "\n",
      "我竟然被我家ㄉ狗鄙視！ 2019-11-28T16:51:07.018Z 0 13\n",
      "\n",
      "我養了一隻樹懶🦥 2019-11-28T12:18:21.317Z 3 13\n",
      "\n",
      "你也知道要坐那 2019-11-28T17:00:22.755Z 2 11\n",
      "\n",
      "協尋幼犬 2019-11-28T03:29:33.883Z 1 10\n",
      "\n"
     ]
    }
   ],
   "source": [
    "# 2. 取出每一筆資料的「標題」、「貼文時間」、「留言人數」、「按讚人數」\n",
    "\n",
    "'''\n",
    "Your Code\n",
    "'''\n",
    "for d in data:\n",
    "    print( d['title'], d['createdAt'], d['commentCount'], d['likeCount'])\n",
    "    print()"
   ]
  },
  {
   "cell_type": "code",
   "execution_count": 22,
   "metadata": {},
   "outputs": [
    {
     "name": "stdout",
     "output_type": "stream",
     "text": [
      "142\n",
      "30\n",
      "4.733333333333333\n",
      "\n",
      "1276\n",
      "30\n",
      "42.53333333333333\n"
     ]
    }
   ],
   "source": [
    "# 3. 計算熱門/非熱門文章的「平均留言人數」與「平均按讚人數」\n",
    "\n",
    "'''\n",
    "Your Code\n",
    "'''\n",
    "import requests\n",
    "r = requests.get('https://www.dcard.tw/_api/forums/pet/posts?popular=true')\n",
    "data = json.loads(r.text)\n",
    "\n",
    "count = 0\n",
    "total_like = 0\n",
    "total_com =0\n",
    "for d in data:\n",
    "    total_com +=int(d['commentCount'])\n",
    "    total_like += int(d['likeCount'])\n",
    "    count += 1\n",
    "print(total_com)\n",
    "print(count)\n",
    "average_com = total_com/count\n",
    "print(average_com)\n",
    "print()\n",
    "print(total_like)\n",
    "print(count)\n",
    "average_like = total_like/count\n",
    "print(average_like)"
   ]
  },
  {
   "cell_type": "code",
   "execution_count": 21,
   "metadata": {},
   "outputs": [
    {
     "name": "stdout",
     "output_type": "stream",
     "text": [
      "102\n",
      "30\n",
      "3.4\n",
      "\n",
      "448\n",
      "30\n",
      "14.933333333333334\n"
     ]
    }
   ],
   "source": [
    "import requests\n",
    "r = requests.get('https://www.dcard.tw/_api/forums/pet/posts?popular=false')\n",
    "data = json.loads(r.text)\n",
    "\n",
    "count = 0\n",
    "total_like = 0\n",
    "total_com =0\n",
    "for d in data:\n",
    "    total_com +=int(d['commentCount'])\n",
    "    total_like += int(d['likeCount'])\n",
    "    count += 1\n",
    "print(total_com)\n",
    "print(count)\n",
    "average_com = total_com/count\n",
    "print(average_com)\n",
    "print()\n",
    "print(total_like)\n",
    "print(count)\n",
    "average_like = total_like/count\n",
    "print(average_like)"
   ]
  },
  {
   "cell_type": "code",
   "execution_count": 24,
   "metadata": {},
   "outputs": [
    {
     "ename": "SyntaxError",
     "evalue": "invalid syntax (<ipython-input-24-bc91bd1d9d5d>, line 1)",
     "output_type": "error",
     "traceback": [
      "\u001b[1;36m  File \u001b[1;32m\"<ipython-input-24-bc91bd1d9d5d>\"\u001b[1;36m, line \u001b[1;32m1\u001b[0m\n\u001b[1;33m    print(\"總數\" count)\u001b[0m\n\u001b[1;37m                   ^\u001b[0m\n\u001b[1;31mSyntaxError\u001b[0m\u001b[1;31m:\u001b[0m invalid syntax\n"
     ]
    }
   ],
   "source": [
    "print(\"總數\" count)"
   ]
  },
  {
   "cell_type": "code",
   "execution_count": null,
   "metadata": {},
   "outputs": [],
   "source": []
  }
 ],
 "metadata": {
  "kernelspec": {
   "display_name": "Python 3",
   "language": "python",
   "name": "python3"
  },
  "language_info": {
   "codemirror_mode": {
    "name": "ipython",
    "version": 3
   },
   "file_extension": ".py",
   "mimetype": "text/x-python",
   "name": "python",
   "nbconvert_exporter": "python",
   "pygments_lexer": "ipython3",
   "version": "3.7.1"
  }
 },
 "nbformat": 4,
 "nbformat_minor": 2
}
